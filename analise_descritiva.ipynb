{
 "cells": [
  {
   "cell_type": "markdown",
   "id": "9ea892a3-8412-4d01-8a47-26c91d872b2a",
   "metadata": {},
   "source": [
    "<h1>Análise de Correlação entre demografia Regional e Resultados de Serviços Bancários </h1>.\n",
    "    "
   ]
  },
  {
   "cell_type": "markdown",
   "id": "94374f64-0cfd-49a8-b637-1ed28df15596",
   "metadata": {},
   "source": [
    "<h2> Importando biblioteca </h2>."
   ]
  },
  {
   "cell_type": "code",
   "execution_count": 3,
   "id": "3e2d6381-e7cf-480a-88a3-5c38ae09a05d",
   "metadata": {},
   "outputs": [
    {
     "data": {
      "text/plain": [
       "'C:\\\\Users\\\\MW684FP\\\\AppData\\\\Local\\\\anaconda3\\\\envs\\\\pyspark-env\\\\Lib\\\\site-packages\\\\pyspark'"
      ]
     },
     "execution_count": 3,
     "metadata": {},
     "output_type": "execute_result"
    }
   ],
   "source": [
    "import findspark\n",
    "findspark.init()\n",
    "findspark.find()"
   ]
  },
  {
   "cell_type": "code",
   "execution_count": 4,
   "id": "a0382362-468e-4374-8f2d-03a4fe38e82c",
   "metadata": {},
   "outputs": [],
   "source": [
    "from pyspark.sql import SparkSession\n",
    "\n",
    "from pyspark import SparkContext, SparkConf\n",
    "\n",
    "spark = SparkSession.builder.appName(\"Carregamentodedados\").getOrCreate()"
   ]
  },
  {
   "cell_type": "markdown",
   "id": "335f21a2-9130-4dd0-9770-a3175bc74ac6",
   "metadata": {},
   "source": [
    "<h2> Conectando dados </h2>."
   ]
  },
  {
   "cell_type": "code",
   "execution_count": 8,
   "id": "141ded81-536a-4996-aa67-fcb9c326f5dc",
   "metadata": {},
   "outputs": [
    {
     "ename": "SyntaxError",
     "evalue": "(unicode error) 'unicodeescape' codec can't decode bytes in position 2-3: truncated \\UXXXXXXXX escape (4007852590.py, line 1)",
     "output_type": "error",
     "traceback": [
      "\u001b[1;36m  Cell \u001b[1;32mIn[8], line 1\u001b[1;36m\u001b[0m\n\u001b[1;33m    file_path = \"C:\\Users\\MW684FP\\Downloads\\202401_ESTBAN.csv\"\u001b[0m\n\u001b[1;37m                ^\u001b[0m\n\u001b[1;31mSyntaxError\u001b[0m\u001b[1;31m:\u001b[0m (unicode error) 'unicodeescape' codec can't decode bytes in position 2-3: truncated \\UXXXXXXXX escape\n"
     ]
    }
   ],
   "source": [
    "file_path = \"Downloads\"\n",
    "df = spark.read.csv(file_path, header=True, inferSchema=True)"
   ]
  },
  {
   "cell_type": "markdown",
   "id": "80746139-bc53-44ca-82c8-0855030b4ace",
   "metadata": {},
   "source": [
    "<h2> Resultado absoluto por UF</h2>.\n"
   ]
  },
  {
   "cell_type": "markdown",
   "id": "14517a5f-b714-4a6c-a47c-dff41799bfc0",
   "metadata": {},
   "source": [
    "<h2>Tx de crescimento dos resultados por UF\n",
    " </h2>."
   ]
  },
  {
   "cell_type": "markdown",
   "id": "cfc94c34-70ac-4469-8831-705ff34f849c",
   "metadata": {},
   "source": [
    "<h2>Resultado per capta</h2>\n"
   ]
  },
  {
   "cell_type": "markdown",
   "id": "ea85cff5-2b93-4c43-bfd0-97307c6a9552",
   "metadata": {},
   "source": [
    "<h2>Composição por produtos</h2>\n"
   ]
  },
  {
   "cell_type": "markdown",
   "id": "000564f7-8038-48e8-ad83-0bf5a903478c",
   "metadata": {},
   "source": [
    "<h2>Regiões com maior quatidade de agecias</h2>\n"
   ]
  },
  {
   "cell_type": "markdown",
   "id": "0c96731b-baca-46e2-bb3b-0a9aef035143",
   "metadata": {},
   "source": [
    "<h2>fx etária ou idade predom. Por reg. Com +res </h2>\n"
   ]
  },
  {
   "cell_type": "markdown",
   "id": "ee4f5294-2c05-4810-97c2-9220da8098db",
   "metadata": {},
   "source": [
    "<h2>Cargo predom. Por reg. Com +res </h2>\n"
   ]
  },
  {
   "cell_type": "markdown",
   "id": "38405737-0108-48e9-9bb8-d7508539a05e",
   "metadata": {},
   "source": [
    "<h2>Produtos x UF</h2>\n"
   ]
  },
  {
   "cell_type": "code",
   "execution_count": null,
   "id": "ec0f7415-bf68-449d-b4cb-0b3c34fd3924",
   "metadata": {},
   "outputs": [],
   "source": []
  }
 ],
 "metadata": {
  "kernelspec": {
   "display_name": "pyspark-env",
   "language": "python",
   "name": "pyspark-env"
  },
  "language_info": {
   "codemirror_mode": {
    "name": "ipython",
    "version": 3
   },
   "file_extension": ".py",
   "mimetype": "text/x-python",
   "name": "python",
   "nbconvert_exporter": "python",
   "pygments_lexer": "ipython3",
   "version": "3.12.2"
  }
 },
 "nbformat": 4,
 "nbformat_minor": 5
}
